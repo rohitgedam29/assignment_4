{
 "cells": [
  {
   "cell_type": "code",
   "execution_count": null,
   "id": "e1e67b70",
   "metadata": {},
   "outputs": [],
   "source": [
    "Que.1 What exactly is []?\n",
    "\n",
    "ANS- square brackets [] are used to create list .\n",
    "     [] represents empty list. This is similar to empty string value(\"\")\n",
    "     List can have any number of items and they can be of different data types.\n",
    "     \n",
    "     example-\n",
    "      list = [2,3,4,5,\"sudh\",5+7j,22.7]"
   ]
  },
  {
   "cell_type": "code",
   "execution_count": null,
   "id": "87da1477",
   "metadata": {},
   "outputs": [],
   "source": [
    "Que.2 In a list of values stored in a variable called spam, how would you assign the value \"hello\" as the third value?\n",
    "      Assume [2,4,6,8,10] are in spam.\n",
    "      Let's pretend the spam includes the list ['a','b','c','d'] for the next three queries\n",
    "      \n",
    "ANS--      "
   ]
  },
  {
   "cell_type": "code",
   "execution_count": 2,
   "id": "c9e6ec8b",
   "metadata": {},
   "outputs": [],
   "source": [
    "spam = [2,4,6,8,10]\n",
    "\n",
    "spam[2]= \"hello\""
   ]
  },
  {
   "cell_type": "code",
   "execution_count": 4,
   "id": "ccf99beb",
   "metadata": {},
   "outputs": [
    {
     "data": {
      "text/plain": [
       "[2, 4, 'hello', 8, 10]"
      ]
     },
     "execution_count": 4,
     "metadata": {},
     "output_type": "execute_result"
    }
   ],
   "source": [
    "spam"
   ]
  },
  {
   "cell_type": "code",
   "execution_count": null,
   "id": "1a06a641",
   "metadata": {},
   "outputs": [],
   "source": [
    "Que.3 What is the value of spam[int(int('3'*2)/11)]?\n",
    "      spam = ['a','b','c','d']\n",
    "      \n",
    "ANS- It gives 'd' as the output."
   ]
  },
  {
   "cell_type": "code",
   "execution_count": 6,
   "id": "7588df34",
   "metadata": {},
   "outputs": [
    {
     "data": {
      "text/plain": [
       "'d'"
      ]
     },
     "execution_count": 6,
     "metadata": {},
     "output_type": "execute_result"
    }
   ],
   "source": [
    "spam = ['a','b','c','d']\n",
    "\n",
    "spam[int(int('3'*2)/11)]"
   ]
  },
  {
   "cell_type": "code",
   "execution_count": null,
   "id": "89d7628e",
   "metadata": {},
   "outputs": [],
   "source": [
    "Que.4 What is the value of spam[-1]?\n",
    "\n",
    "ANS- it will give 'd' as a result .\n",
    "     as negative indexes count from the end."
   ]
  },
  {
   "cell_type": "code",
   "execution_count": 7,
   "id": "9b02907e",
   "metadata": {},
   "outputs": [
    {
     "data": {
      "text/plain": [
       "'d'"
      ]
     },
     "execution_count": 7,
     "metadata": {},
     "output_type": "execute_result"
    }
   ],
   "source": [
    "spam = ['a','b','c','d']\n",
    "spam[-1]"
   ]
  },
  {
   "cell_type": "code",
   "execution_count": null,
   "id": "f9711cc0",
   "metadata": {},
   "outputs": [],
   "source": [
    "Que.5 What is the value of spam[:2]?\n",
    "\n",
    "ANS- ['a','b']\n",
    "     it will give elements at the 0th and the 1st index."
   ]
  },
  {
   "cell_type": "code",
   "execution_count": 8,
   "id": "9c79556b",
   "metadata": {},
   "outputs": [
    {
     "data": {
      "text/plain": [
       "['a', 'b']"
      ]
     },
     "execution_count": 8,
     "metadata": {},
     "output_type": "execute_result"
    }
   ],
   "source": [
    "spam = ['a','b','c','d']\n",
    "\n",
    "spam[:2]"
   ]
  },
  {
   "cell_type": "code",
   "execution_count": null,
   "id": "d87dbf53",
   "metadata": {},
   "outputs": [],
   "source": [
    "Que.6 bacon=[3.14,'cat',11,'cat',True]\n",
    "      What is the value of bacon.index('cat')?\n",
    "      \n",
    "ANS- It will check the first occurance of the string \"cat\" and will return its index.      \n"
   ]
  },
  {
   "cell_type": "code",
   "execution_count": 9,
   "id": "b43b63b1",
   "metadata": {},
   "outputs": [
    {
     "data": {
      "text/plain": [
       "1"
      ]
     },
     "execution_count": 9,
     "metadata": {},
     "output_type": "execute_result"
    }
   ],
   "source": [
    "bacon=[3.14,'cat',11,'cat',True]\n",
    "\n",
    "bacon.index('cat')\n"
   ]
  },
  {
   "cell_type": "code",
   "execution_count": null,
   "id": "c62198f5",
   "metadata": {},
   "outputs": [],
   "source": [
    "Que.7 How does bacon.append(99) change the look of the list value in bacon?\n",
    "\n",
    "ANS- It will add 99 as the last element of the list .\n"
   ]
  },
  {
   "cell_type": "code",
   "execution_count": 12,
   "id": "2e1c86fb",
   "metadata": {},
   "outputs": [
    {
     "data": {
      "text/plain": [
       "[3.14, 'cat', 11, 'cat', True, 99]"
      ]
     },
     "execution_count": 12,
     "metadata": {},
     "output_type": "execute_result"
    }
   ],
   "source": [
    "bacon=[3.14,'cat',11,'cat',True]\n",
    "\n",
    "bacon.append(99)\n",
    "bacon\n"
   ]
  },
  {
   "cell_type": "code",
   "execution_count": null,
   "id": "2fd2f3e7",
   "metadata": {},
   "outputs": [],
   "source": [
    "Que.8 How does bacon.remove('cat') changes the look of the list bacon?\n",
    "\n",
    "ANS- It will remove the string'cat' which is at the 1st index , as remove function only removes elememts which occurs first\n"
   ]
  },
  {
   "cell_type": "code",
   "execution_count": 14,
   "id": "e37e0e28",
   "metadata": {},
   "outputs": [
    {
     "data": {
      "text/plain": [
       "[3.14, 11, 'cat', True]"
      ]
     },
     "execution_count": 14,
     "metadata": {},
     "output_type": "execute_result"
    }
   ],
   "source": [
    "bacon=[3.14,'cat',11,'cat',True]\n",
    "\n",
    "bacon.remove('cat')\n",
    "bacon\n"
   ]
  },
  {
   "cell_type": "code",
   "execution_count": null,
   "id": "8381a1b7",
   "metadata": {},
   "outputs": [],
   "source": [
    "Que.9  What are the list concatenation and list replication operators?\n",
    "\n",
    "ANS- List concatenation operator is   +  and\n",
    "     List relication operator is      *\n",
    "     \n",
    "Example -\n",
    "\n",
    "        "
   ]
  },
  {
   "cell_type": "code",
   "execution_count": 17,
   "id": "3e7ad18b",
   "metadata": {},
   "outputs": [
    {
     "data": {
      "text/plain": [
       "[2, 4, 6, 7, 8, 9]"
      ]
     },
     "execution_count": 17,
     "metadata": {},
     "output_type": "execute_result"
    }
   ],
   "source": [
    "a = [2,4,6]  #concatenation\n",
    "b=  [7,8,9]\n",
    "\n",
    "c= a+b\n",
    "c"
   ]
  },
  {
   "cell_type": "code",
   "execution_count": 22,
   "id": "db2d2a7a",
   "metadata": {},
   "outputs": [
    {
     "data": {
      "text/plain": [
       "[2, 4, 6, 2, 4, 6]"
      ]
     },
     "execution_count": 22,
     "metadata": {},
     "output_type": "execute_result"
    }
   ],
   "source": [
    "d = a*2  #replication\n",
    "d"
   ]
  },
  {
   "cell_type": "code",
   "execution_count": null,
   "id": "acdbe662",
   "metadata": {},
   "outputs": [],
   "source": [
    "Que.10 What is the difference between the list operation append() and insert()?\n",
    "\n",
    "ANS- append() add values at the end of the list.\n",
    "     while using insert() we can give the index at which we want to insert that value."
   ]
  },
  {
   "cell_type": "code",
   "execution_count": 26,
   "id": "ec01813d",
   "metadata": {},
   "outputs": [
    {
     "data": {
      "text/plain": [
       "[2, 4, 6, 36]"
      ]
     },
     "execution_count": 26,
     "metadata": {},
     "output_type": "execute_result"
    }
   ],
   "source": [
    "a = [2,4,6]\n",
    "a.append(36)\n",
    "a"
   ]
  },
  {
   "cell_type": "code",
   "execution_count": 30,
   "id": "2fb56080",
   "metadata": {},
   "outputs": [
    {
     "data": {
      "text/plain": [
       "[29, 2, 4, 6]"
      ]
     },
     "execution_count": 30,
     "metadata": {},
     "output_type": "execute_result"
    }
   ],
   "source": [
    "a= [2,4,6]\n",
    "a.insert(0,29)  \n",
    "a"
   ]
  },
  {
   "cell_type": "code",
   "execution_count": null,
   "id": "1acfd72d",
   "metadata": {},
   "outputs": [],
   "source": [
    "Que.11 What are the two methods for removing items from the list?\n",
    "\n",
    "ANS- remove() and pop() are two methods which are used for removing items from the list.\n",
    "     \n",
    "     IN remove() method we pass the value that we want to remove from the list.\n",
    "     IN POP() method we pass the index of the value that we want to remove.\n"
   ]
  },
  {
   "cell_type": "code",
   "execution_count": 35,
   "id": "b5de76d0",
   "metadata": {},
   "outputs": [
    {
     "data": {
      "text/plain": [
       "[2, 6, 8, 10]"
      ]
     },
     "execution_count": 35,
     "metadata": {},
     "output_type": "execute_result"
    }
   ],
   "source": [
    "a = [2,4,6,8,10]\n",
    "\n",
    "a.remove(4)\n",
    "a"
   ]
  },
  {
   "cell_type": "code",
   "execution_count": 36,
   "id": "0a75df3f",
   "metadata": {},
   "outputs": [
    {
     "data": {
      "text/plain": [
       "[2, 4, 6, 8]"
      ]
     },
     "execution_count": 36,
     "metadata": {},
     "output_type": "execute_result"
    }
   ],
   "source": [
    "a = [2,4,6,8,10]\n",
    "\n",
    "a.pop(4)\n",
    "a"
   ]
  },
  {
   "cell_type": "code",
   "execution_count": null,
   "id": "917668c0",
   "metadata": {},
   "outputs": [],
   "source": [
    "Que.12 Describe how list values and string values are identical.\n",
    "\n",
    "ANS- List and Strings are both sequences\n",
    "     each element of the list and each character of the string has a index number.\n",
    "     "
   ]
  },
  {
   "cell_type": "code",
   "execution_count": null,
   "id": "b9fd1512",
   "metadata": {},
   "outputs": [],
   "source": [
    "Que.13 What's the difference between tuples and lists?\n",
    "\n",
    "ANS-  Tuple is a datatype which is immutable ,that is it cannot be changed.\n",
    "      while, lists are  mutable and can be easily modified.\n",
    "      \n",
    "      \n",
    "      Tuples consumes less memory compared to list.\n",
    "      list consume more memory.\n",
    "      \n",
    "      \n",
    "      Tuple does not have many built-in methods.\n",
    "      Lists have several number of  build-in methods\n",
    "      \n",
    "      \n",
    "      tuples are defined using  simple brackets ()\n",
    "      lists are formed using square brackets []"
   ]
  },
  {
   "cell_type": "code",
   "execution_count": null,
   "id": "f4e4f49d",
   "metadata": {},
   "outputs": [],
   "source": [
    "Que.14 How do you type a tuple value that only contains the integer 42?\n",
    "\n",
    "ANS-  IF we put a comma, after the number it will become a tuple .\n",
    "      without this comma its type will be integer\n"
   ]
  },
  {
   "cell_type": "code",
   "execution_count": 45,
   "id": "9faaac7d",
   "metadata": {},
   "outputs": [
    {
     "data": {
      "text/plain": [
       "tuple"
      ]
     },
     "execution_count": 45,
     "metadata": {},
     "output_type": "execute_result"
    }
   ],
   "source": [
    "t = (42,)\n",
    "type(t)"
   ]
  },
  {
   "cell_type": "code",
   "execution_count": null,
   "id": "48bf538a",
   "metadata": {},
   "outputs": [],
   "source": [
    "Que.15 How do you get a list value's tuple form? how do you get tuple value's list form?\n",
    "\n",
    "ANS-  "
   ]
  },
  {
   "cell_type": "code",
   "execution_count": 46,
   "id": "d898e83c",
   "metadata": {},
   "outputs": [
    {
     "data": {
      "text/plain": [
       "(2, 4, 6, 8, 10, 12)"
      ]
     },
     "execution_count": 46,
     "metadata": {},
     "output_type": "execute_result"
    }
   ],
   "source": [
    "a = [2,4,6,8,10,12]\n",
    "\n",
    "t= tuple(a)\n",
    "t"
   ]
  },
  {
   "cell_type": "code",
   "execution_count": 48,
   "id": "fb884bb3",
   "metadata": {},
   "outputs": [
    {
     "data": {
      "text/plain": [
       "[12, 14, 16, 18, 20]"
      ]
     },
     "execution_count": 48,
     "metadata": {},
     "output_type": "execute_result"
    }
   ],
   "source": [
    "t = (12,14,16,18,20)\n",
    "\n",
    "a = list(t)\n",
    "a"
   ]
  },
  {
   "cell_type": "code",
   "execution_count": null,
   "id": "124603e6",
   "metadata": {},
   "outputs": [],
   "source": [
    "Que.16 Variables that \"contain\" list values are not necessarily list themselves. Instead , what do they contain?\n",
    "\n",
    "ANS- variables only contain reference to the list values rather than the list values themselves.\n"
   ]
  },
  {
   "cell_type": "code",
   "execution_count": null,
   "id": "da137f28",
   "metadata": {},
   "outputs": [],
   "source": [
    "Que.17 How do you distinguish between copy.copy() and copy.deepcopy()?\n",
    "\n",
    "ANS copy.copy() will do a shallow copy of a list , while copy.deepcopy() will do a deep copy of a list.\n",
    "    only copy.deepcopy() will duplicate any list inside the list."
   ]
  },
  {
   "cell_type": "code",
   "execution_count": null,
   "id": "16ec4281",
   "metadata": {},
   "outputs": [],
   "source": []
  },
  {
   "cell_type": "code",
   "execution_count": null,
   "id": "e8ad18a6",
   "metadata": {},
   "outputs": [],
   "source": []
  },
  {
   "cell_type": "code",
   "execution_count": null,
   "id": "9d3dcf03",
   "metadata": {},
   "outputs": [],
   "source": []
  }
 ],
 "metadata": {
  "kernelspec": {
   "display_name": "Python 3 (ipykernel)",
   "language": "python",
   "name": "python3"
  },
  "language_info": {
   "codemirror_mode": {
    "name": "ipython",
    "version": 3
   },
   "file_extension": ".py",
   "mimetype": "text/x-python",
   "name": "python",
   "nbconvert_exporter": "python",
   "pygments_lexer": "ipython3",
   "version": "3.9.7"
  }
 },
 "nbformat": 4,
 "nbformat_minor": 5
}
